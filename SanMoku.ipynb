{
  "nbformat": 4,
  "nbformat_minor": 0,
  "metadata": {
    "kernelspec": {
      "display_name": "Python 3",
      "language": "python",
      "name": "python3"
    },
    "language_info": {
      "codemirror_mode": {
        "name": "ipython",
        "version": 3
      },
      "file_extension": ".py",
      "mimetype": "text/x-python",
      "name": "python",
      "nbconvert_exporter": "python",
      "pygments_lexer": "ipython3",
      "version": "3.8.3"
    },
    "colab": {
      "name": "SanMoku.ipynb",
      "provenance": [],
      "include_colab_link": true
    }
  },
  "cells": [
    {
      "cell_type": "markdown",
      "metadata": {
        "id": "view-in-github",
        "colab_type": "text"
      },
      "source": [
        "<a href=\"https://colab.research.google.com/github/tom00ti/HTMLCSS_practice/blob/master/SanMoku.ipynb\" target=\"_parent\"><img src=\"https://colab.research.google.com/assets/colab-badge.svg\" alt=\"Open In Colab\"/></a>"
      ]
    },
    {
      "cell_type": "markdown",
      "metadata": {
        "id": "3qCwvjyTbyb1"
      },
      "source": [
        "ライブラリの読み込み"
      ]
    },
    {
      "cell_type": "code",
      "metadata": {
        "id": "7LTFh_owbyb6"
      },
      "source": [
        "import numpy as np"
      ],
      "execution_count": 1,
      "outputs": []
    },
    {
      "cell_type": "markdown",
      "metadata": {
        "id": "DBBgKNpDbyb6"
      },
      "source": [
        "シミュレータクラス"
      ]
    },
    {
      "cell_type": "code",
      "metadata": {
        "id": "oBhDVFidbyb7"
      },
      "source": [
        "#シミュレータクラス\n",
        "class MySimulator():\n",
        "    def __init__(self):\n",
        "        self.reset()\n",
        "#初期化\n",
        "    def reset(self):\n",
        "        self._state = np.zeros(9, dtype=np.int32)#マスの設定\n",
        "        return self._state\n",
        "#行動による状態変化\n",
        "    def step(self, action, turn):\n",
        "        rewards = [0,0]\n",
        "        done = False\n",
        "        if self._state[action] != 0:#すでに〇か×が書かれているところに打った場合\n",
        "            done = True\n",
        "            rewards[turn] = -1#打ったエージェントだけマイナスの報酬\n",
        "            return self._state, rewards, done\n",
        "        self._state[action] = turn+1\n",
        "        #3つ並んだかを判定\n",
        "        ptn = [[0,1,2],[3,4,5],[6,7,8],[0,3,6],[1,4,7],[2,5,8],[0,4,8],[2,4,6]]\n",
        "        for i in range(8):\n",
        "            if self._state[ptn[i][0]] == turn+1 and \\\n",
        "               self._state[ptn[i][1]] == turn+1 and \\\n",
        "               self._state[ptn[i][2]] == turn+1:\n",
        "                rewards[turn] = 1#勝ったエージェントにプラスの報酬\n",
        "                rewards[(turn+1)%2] = -1#負けたエージェントにマイナスの報酬\n",
        "                done = True\n",
        "                return self._state, rewards, done            \n",
        "        return self._state, rewards, done\n",
        "    def show_Board(self):\n",
        "        mb = {0:' ', 1:'O', 2:'X'}\n",
        "        i=0\n",
        "        print(mb[self._state[i*3]], \"|\", mb[self._state[i*3+1]], \"|\", mb[self._state[i*3+2]] )\n",
        "        print(\"----------\" )\n",
        "        i=1\n",
        "        print(mb[self._state[i*3]], \"|\", mb[self._state[i*3+1]], \"|\", mb[self._state[i*3+2]] )\n",
        "        print(\"----------\" )\n",
        "        i=2\n",
        "        print(mb[self._state[i*3]], \"|\", mb[self._state[i*3+1]], \"|\", mb[self._state[i*3+2]] )\n",
        "    "
      ],
      "execution_count": 3,
      "outputs": []
    },
    {
      "cell_type": "markdown",
      "metadata": {
        "id": "GMY4xskubyb7"
      },
      "source": [
        "Q値クラス"
      ]
    },
    {
      "cell_type": "code",
      "metadata": {
        "id": "h5kILPVlbyb7"
      },
      "source": [
        "#Q値クラスの設定\n",
        "class MyQTable():\n",
        "    def __init__(self, train=True):\n",
        "        if train:\n",
        "            print(\"Training\")\n",
        "            QV0=np.zeros((3**9,9), dtype=np.float32)\n",
        "            QV1=np.zeros((3**9,9), dtype=np.float32)\n",
        "        else:\n",
        "            print(\"Game Start\")\n",
        "            QV0=np.zeros((3**9,9), dtype=np.float32)\n",
        "            QV1 = np.loadtxt('Q1value.txt')\n",
        "        self._QVs = [QV0, QV1]\n",
        "#行動の選択\n",
        "    def get_action(self, state, epsilon, turn):\n",
        "        qv= self._QVs[turn]\n",
        "        s = 0\n",
        "        for i in range(9):\n",
        "            s = s + state[i]*(3**i)\n",
        "        if epsilon > np.random.uniform(0, 1):#徐々に最適行動のみをとる、ε-greedy法\n",
        "            next_action = np.random.choice(range(9))\n",
        "        else:\n",
        "            a = np.where(qv[s]==qv[s].max())[0]\n",
        "            next_action = np.random.choice(a)\n",
        "        return next_action\n",
        "    def update_Qtable(self, act, reward, state, state_old, turn):\n",
        "        qv= self._QVs[turn]\n",
        "        s = 0\n",
        "        so = 0\n",
        "        for i in range(9):\n",
        "            s = s + state[i]*(3**i)\n",
        "            so = so + state_old[i]*(3**i)\n",
        "        alpha = 0.5\n",
        "        gamma = 0.9\n",
        "        maxQ = np.max(qv[s])\n",
        "        qv[so,act] = (1-alpha)*qv[so,act]+alpha*(reward + gamma*maxQ);\n",
        "        self._QVs[turn] = qv\n",
        "    def save_Qtable(self):\n",
        "        np.savetxt('Q0value.txt', self._QVs[0])\n",
        "        np.savetxt('Q1value.txt', self._QVs[1])"
      ],
      "execution_count": null,
      "outputs": []
    },
    {
      "cell_type": "markdown",
      "metadata": {
        "id": "HaaBcu5Hbyb8"
      },
      "source": [
        "学習の実行"
      ]
    },
    {
      "cell_type": "code",
      "metadata": {
        "id": "Zifnr5FNbyb8",
        "outputId": "daa5c6df-113b-49c1-e36f-2c54c72719c7"
      },
      "source": [
        "def main():\n",
        "    num_episodes = 100000  #総試行回数\n",
        "    env = MySimulator()\n",
        "    tab = MyQTable()\n",
        "    wins = [0,0,0,0,0]\n",
        "    for episode in range(num_episodes):  #試行数分繰り返す\n",
        "        if episode%10000==0:\n",
        "            wins = [0,0,0,0,0]\n",
        "        state = env.reset()\n",
        "        state_old = [state,state]\n",
        "        rewards = [0,0]\n",
        "        actions = [0,0]\n",
        "        epsilon = (1 / (episode + 1))+0.1\n",
        "        step = 0\n",
        "        while(1):\n",
        "            actions[0] = tab.get_action(state, epsilon, 0)\n",
        "            state_old[0] = np.copy(state)\n",
        "            state, rewards, done = env.step(actions[0], 0)\n",
        "            tab.update_Qtable(actions[1], rewards[1], state, state_old[1], 1)\n",
        "            if done==True:\n",
        "                tab.update_Qtable(actions[0], rewards[0], state, state_old[0], 0)\n",
        "                if rewards[0]==-1:\n",
        "                    wins[1]+=1\n",
        "                else:\n",
        "                    wins[0]+=1\n",
        "                break\n",
        "            step +=1\n",
        "            if step==9:\n",
        "                break\n",
        "            actions[1] = tab.get_action(state, epsilon, 1)\n",
        "            state_old[1] = np.copy(state)\n",
        "            state, rewards, done = env.step(actions[1], 1)\n",
        "            tab.update_Qtable(actions[0], rewards[0], state, state_old[0], 0)\n",
        "            if done==True:\n",
        "                tab.update_Qtable(actions[1], rewards[1], state, state_old[1], 1)\n",
        "                if rewards[0]==-1:\n",
        "                    wins[3]+=1\n",
        "                else:\n",
        "                    wins[2]+=1\n",
        "                break\n",
        "            step +=1\n",
        "        if step==9:\n",
        "            wins[4]+=1\n",
        "        if (episode+1)%10000==0:\n",
        "            print(wins,sum(wins))\n",
        "\n",
        "    tab.save_Qtable()\n",
        "    print(\"Training Finish.\")\n",
        "  \n",
        "if __name__ == '__main__':\n",
        "    main()"
      ],
      "execution_count": null,
      "outputs": [
        {
          "output_type": "stream",
          "text": [
            "Training\n",
            "[1117, 3309, 3089, 460, 2025] 10000\n",
            "[1443, 2230, 1998, 519, 3810] 10000\n",
            "[1491, 2110, 1917, 566, 3916] 10000\n",
            "[1468, 2014, 1884, 496, 4138] 10000\n",
            "[1402, 1895, 1703, 458, 4542] 10000\n",
            "[1555, 1906, 1677, 450, 4412] 10000\n",
            "[1446, 1875, 1788, 526, 4365] 10000\n",
            "[1624, 1783, 1559, 486, 4548] 10000\n",
            "[1474, 1821, 1688, 500, 4517] 10000\n",
            "[1595, 1743, 1481, 471, 4710] 10000\n",
            "Training Finish.\n"
          ],
          "name": "stdout"
        }
      ]
    },
    {
      "cell_type": "markdown",
      "metadata": {
        "id": "UhCvs9S0byb9"
      },
      "source": [
        "対戦の実行"
      ]
    },
    {
      "cell_type": "code",
      "metadata": {
        "id": "8zLwExbtbyb9",
        "outputId": "8275f96c-d62e-4f55-a01b-7fb486b31ed0"
      },
      "source": [
        "def show_InitBoard():\n",
        "    i=0\n",
        "    print(i*3, \"|\", i*3+1, \"|\", i*3+2 )\n",
        "    print(\"----------\" )\n",
        "    i=1\n",
        "    print(i*3, \"|\", i*3+1, \"|\", i*3+2 )\n",
        "    print(\"----------\" )\n",
        "    i=2\n",
        "    print(i*3, \"|\", i*3+1, \"|\", i*3+2 )\n",
        "def main_play():\n",
        "    show_InitBoard()\n",
        "    num_episodes = 1  #総試行回数\n",
        "    env = MySimulator()\n",
        "    tab = MyQTable(False)\n",
        "\n",
        "    state = env.reset()\n",
        "    state_old = [state,state]\n",
        "    rewards = [0,0]\n",
        "    actions = [0,0]\n",
        "    step = 0\n",
        "    while(1):\n",
        "        actions[0] = int(input('[0-8]'))\n",
        "        state, rewards, done = env.step(actions[0], 0)\n",
        "        env.show_Board()\n",
        "        if done==True:\n",
        "            if rewards[0]==-1:\n",
        "                print('Penalty. You lose.')\n",
        "            else:\n",
        "                print('You win!!!')\n",
        "            break\n",
        "        step +=1\n",
        "        if step==9:\n",
        "            break\n",
        "        actions[1] = tab.get_action(state, 0, turn=1)\n",
        "        print(\"Agent action:\", actions[1])\n",
        "        state, rewards, done = env.step(actions[1], 1)\n",
        "        env.show_Board()\n",
        "        if done==True:\n",
        "            if rewards[1]==-1:\n",
        "                print('Penalty. You win.')\n",
        "            else:\n",
        "                print('You loose.')\n",
        "            break\n",
        "        step +=1\n",
        "  \n",
        "if __name__ == '__main__':\n",
        "    main_play()\n"
      ],
      "execution_count": null,
      "outputs": [
        {
          "output_type": "stream",
          "text": [
            "0 | 1 | 2\n",
            "----------\n",
            "3 | 4 | 5\n",
            "----------\n",
            "6 | 7 | 8\n",
            "Game Start\n",
            "[0-8]1\n",
            "  | O |  \n",
            "----------\n",
            "  |   |  \n",
            "----------\n",
            "  |   |  \n",
            "Agent action: 0\n",
            "X | O |  \n",
            "----------\n",
            "  |   |  \n",
            "----------\n",
            "  |   |  \n",
            "[0-8]2\n",
            "X | O | O\n",
            "----------\n",
            "  |   |  \n",
            "----------\n",
            "  |   |  \n",
            "Agent action: 4\n",
            "X | O | O\n",
            "----------\n",
            "  | X |  \n",
            "----------\n",
            "  |   |  \n",
            "[0-8]3\n",
            "X | O | O\n",
            "----------\n",
            "O | X |  \n",
            "----------\n",
            "  |   |  \n",
            "Agent action: 8\n",
            "X | O | O\n",
            "----------\n",
            "O | X |  \n",
            "----------\n",
            "  |   | X\n",
            "You loose.\n"
          ],
          "name": "stdout"
        }
      ]
    },
    {
      "cell_type": "code",
      "metadata": {
        "id": "Bz2ZkoUsbyb-"
      },
      "source": [
        ""
      ],
      "execution_count": null,
      "outputs": []
    }
  ]
}